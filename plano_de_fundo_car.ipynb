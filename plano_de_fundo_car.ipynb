{
  "nbformat": 4,
  "nbformat_minor": 0,
  "metadata": {
    "colab": {
      "name": "plano_de_fundo_car.ipynb",
      "provenance": [],
      "private_outputs": true,
      "collapsed_sections": [],
      "authorship_tag": "ABX9TyN0TUMBftaUx6Ng1GjPs0D5",
      "include_colab_link": true
    },
    "kernelspec": {
      "name": "python3",
      "display_name": "Python 3"
    }
  },
  "cells": [
    {
      "cell_type": "markdown",
      "metadata": {
        "id": "view-in-github",
        "colab_type": "text"
      },
      "source": [
        "<a href=\"https://colab.research.google.com/github/ale-nunes/Tutorials-Machine_Learning/blob/master/plano_de_fundo_car.ipynb\" target=\"_parent\"><img src=\"https://colab.research.google.com/assets/colab-badge.svg\" alt=\"Open In Colab\"/></a>"
      ]
    },
    {
      "cell_type": "markdown",
      "metadata": {
        "id": "aIGhS-xMADxP",
        "colab_type": "text"
      },
      "source": [
        "ALÉCIO NUNES 825732"
      ]
    },
    {
      "cell_type": "markdown",
      "metadata": {
        "id": "wfPgssvA9l95",
        "colab_type": "text"
      },
      "source": [
        "\n",
        "Link Imagem: https://4.bp.blogspot.com/-kQ2-L8jezP4/WiIdyK_k14I/AAAAAAAAGfM/kQAR3-wuqmEJHQHcrQH8f8HHaP4i1AfogCLcBGAs/s2560/mclaren_570s_pirelli_mc_sottozero_3_winter_tires_4k-2560x1600.jpg\n",
        "\n",
        "\n",
        "\n"
      ]
    },
    {
      "cell_type": "code",
      "metadata": {
        "id": "tgkWLuWd-pLG",
        "colab_type": "code",
        "colab": {}
      },
      "source": [
        "import cv2 as cv\n",
        "import numpy as np \n",
        "import matplotlib.pyplot as plt"
      ],
      "execution_count": 0,
      "outputs": []
    },
    {
      "cell_type": "code",
      "metadata": {
        "id": "kTslTQ86Ag7O",
        "colab_type": "code",
        "colab": {}
      },
      "source": [
        "img1 =  cv.imread(\"/content/car2.jpg\")\n",
        "\n",
        "img1 = cv.cvtColor(img1, cv.COLOR_BGR2RGB)\n",
        "\n",
        "#Retângulo de Segmentação\n",
        "img2 = img1.copy()\n",
        "p1 = (760,405)           # canto superior esquerdo do retângulo\n",
        "p2 = (879,440)        # canto inferior direito do retângulo\n",
        "img2 = cv.rectangle(img2,p1,p2,(255,0,0),2)\n",
        "\n",
        "#Parâmetros\n",
        "mascara = np.zeros(img1.shape[:2], np.uint8)\n",
        "bgModel = np.zeros((1,65), np.float64)\n",
        "fgModel = np.zeros((1,65), np.float64)\n",
        "retangulo = p1+p2\n",
        "\n",
        "#algoritmo GrabCut\n",
        "cv.grabCut(img1, mascara, retangulo, bgModel, fgModel, 5, cv.GC_INIT_WITH_RECT)\n",
        "\n",
        "filtro = np.where ( (mascara == 0) | (mascara == 2),0,1).astype('uint8')\n",
        "img3 = img1.copy()\n",
        "img3 = img3*filtro[:,:,np.newaxis]\n",
        "\n",
        "plt.figure(figsize=(20,20))\n",
        "plt.subplot(131), plt.imshow(img1)\n",
        "plt.subplot(132), plt.imshow(img2)\n",
        "plt.subplot(133), plt.imshow(img3)"
      ],
      "execution_count": 0,
      "outputs": []
    }
  ]
}